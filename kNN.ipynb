{
 "metadata": {
  "name": ""
 },
 "nbformat": 3,
 "nbformat_minor": 0,
 "worksheets": [
  {
   "cells": [
    {
     "cell_type": "code",
     "collapsed": false,
     "input": [
      "from numpy import  *\n",
      "import operator\n",
      "\n",
      "def createDataSet():\n",
      "        group = array([[1.0,1.1],[1.0,1.0],[0.0,0.0],[0,0.1]])\n",
      "        labels = ['A','A','B','B']\n",
      "        return group, labels"
     ],
     "language": "python",
     "metadata": {},
     "outputs": [],
     "prompt_number": 1
    },
    {
     "cell_type": "code",
     "collapsed": false,
     "input": [
      "#kNN\u7b97\u6cd5\u5b9e\u73b0\n",
      "#2016.7.1\n",
      "\n",
      "import numpy as np\n",
      "\n",
      "def calDistance(pointX, pointY):\n",
      "        delX = (pointX[0] - pointY[0])**2\n",
      "        delY = (pointX[1] - pointY[1])**2\n",
      "        return (delY+delX)**0.5\n",
      "\n",
      "def  dictSorted(dic, key, reverse):\n",
      "        return sorted(dic.iteritems(), key = lambda asd:asd[1],reverse = False)\n",
      "\n",
      "def kNNClassifier(k, trainSet, labels, prePoint):\n",
      "        trainSet = np.array(trainSet)\n",
      "        labels = np.array(labels)\n",
      "        dataSet = np.array([[]])\n",
      "        dataSize = trainSet.shape[0]\n",
      "        numA = numB = 0\n",
      "        \n",
      "        for i in range(dataSize):\n",
      "            if (i == 0):\n",
      "                dataSet = [[calDistance(trainSet[i] , prePoint), labels[i]]]\n",
      "            else:\n",
      "                dataSet = np.append(dataSet, [[calDistance(trainSet[i] , prePoint), labels[i]]] , axis = 0)\n",
      "        s = np.argsort(dataSet, axis = 0)[:,0]\n",
      "\n",
      "        for j in range(k):\n",
      "            position = np.where(s == j)\n",
      "            if (labels[position] == 'A'):\n",
      "                numA += 1\n",
      "            else:\n",
      "                numB += 1\n",
      "        if (numA > numB):\n",
      "            print numA,numB\n",
      "            return 'A'\n",
      "        else:\n",
      "            print numA,numB\n",
      "            return 'B'\n"
     ],
     "language": "python",
     "metadata": {},
     "outputs": [],
     "prompt_number": 7
    },
    {
     "cell_type": "code",
     "collapsed": false,
     "input": [
      "group, labels = createDataSet()"
     ],
     "language": "python",
     "metadata": {},
     "outputs": [],
     "prompt_number": 8
    },
    {
     "cell_type": "code",
     "collapsed": false,
     "input": [
      "print group\n",
      "print labels"
     ],
     "language": "python",
     "metadata": {},
     "outputs": [
      {
       "output_type": "stream",
       "stream": "stdout",
       "text": [
        "[[ 1.   1.1]\n",
        " [ 1.   1. ]\n",
        " [ 0.   0. ]\n",
        " [ 0.   0.1]]\n",
        "['A', 'A', 'B', 'B']\n"
       ]
      }
     ],
     "prompt_number": 9
    },
    {
     "cell_type": "code",
     "collapsed": false,
     "input": [
      "kNNClassifier(2, group, labels, [10,10])"
     ],
     "language": "python",
     "metadata": {},
     "outputs": [
      {
       "output_type": "stream",
       "stream": "stdout",
       "text": [
        "2 0\n"
       ]
      },
      {
       "metadata": {},
       "output_type": "pyout",
       "prompt_number": 12,
       "text": [
        "'A'"
       ]
      }
     ],
     "prompt_number": 12
    },
    {
     "cell_type": "code",
     "collapsed": false,
     "input": [
      "group"
     ],
     "language": "python",
     "metadata": {},
     "outputs": [
      {
       "metadata": {},
       "output_type": "pyout",
       "prompt_number": 12,
       "text": [
        "array([[ 1. ,  1.1],\n",
        "       [ 1. ,  1. ],\n",
        "       [ 0. ,  0. ],\n",
        "       [ 0. ,  0.1]])"
       ]
      }
     ],
     "prompt_number": 12
    }
   ],
   "metadata": {}
  }
 ]
}