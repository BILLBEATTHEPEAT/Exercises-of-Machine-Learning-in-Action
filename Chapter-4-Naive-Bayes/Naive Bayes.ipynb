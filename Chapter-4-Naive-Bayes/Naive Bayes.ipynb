{
 "metadata": {
  "name": ""
 },
 "nbformat": 3,
 "nbformat_minor": 0,
 "worksheets": [
  {
   "cells": [
    {
     "cell_type": "markdown",
     "metadata": {},
     "source": [
      "This is the implementation of the Naive Bayes classifer which used the theory of Naive Bayes algorithm  \n",
      "Micheal Ricardo Huang  \n",
      "2016.7.27"
     ]
    },
    {
     "cell_type": "code",
     "collapsed": false,
     "input": [
      "#Coded by myself, not copied from the book, but some of the functions are implememted under the inspired by the book MLiA"
     ],
     "language": "python",
     "metadata": {},
     "outputs": [],
     "prompt_number": 1
    },
    {
     "cell_type": "code",
     "collapsed": false,
     "input": [],
     "language": "python",
     "metadata": {},
     "outputs": []
    }
   ],
   "metadata": {}
  }
 ]
}